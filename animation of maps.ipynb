{
 "cells": [
  {
   "cell_type": "markdown",
   "metadata": {},
   "source": [
    "# Animation"
   ]
  },
  {
   "cell_type": "code",
   "execution_count": 1,
   "metadata": {},
   "outputs": [],
   "source": [
    "import pandas as pd\n",
    "import matplotlib.pyplot as plt\n",
    "import numpy as np\n",
    "from folium.plugins import HeatMap\n",
    "import folium\n",
    "from folium.features import DivIcon\n",
    "import datetime\n",
    "import warnings\n",
    "import os\n",
    "import shutil\n",
    "import os\n",
    "import time\n",
    "import imageio\n",
    "import branca\n",
    "import urllib.request\n",
    "from selenium import webdriver\n",
    "from IPython.display import Image\n",
    "from branca.utilities import split_six\n",
    "warnings.filterwarnings('ignore')\n",
    "%matplotlib inline"
   ]
  },
  {
   "cell_type": "code",
   "execution_count": 2,
   "metadata": {},
   "outputs": [],
   "source": [
    "records=pd.read_csv('random_sample_data_MQ.csv',iterator=True,chunksize=10**5,low_memory=False)\n",
    "mylist=[]\n",
    "for chunk in records:\n",
    "    mylist.append(chunk[['Type','StartTime(UTC)','City','LocalTimeZone','StartPoint_Lat','StartPoint_Lng','ZipCode','County','State']])\n",
    "records=pd.concat(mylist)\n",
    "\n",
    "# Show the time correctly.\n",
    "records['StartTime(UTC)']=pd.to_datetime(records['StartTime(UTC)'])\n",
    "records=records[records['LocalTimeZone'].notnull()]\n",
    "dic={'EDT':datetime.timedelta(hours=-4), 'EST':datetime.timedelta(hours=-5),\n",
    "     'CDT':datetime.timedelta(hours=-5), 'CST':datetime.timedelta(hours=-6), \n",
    "     'MDT':datetime.timedelta(hours=-6), 'MST':datetime.timedelta(hours=-7),\n",
    "     'PDT':datetime.timedelta(hours=-7), 'PST':datetime.timedelta(hours=-8)}\n",
    "records['StartTime(UTC)']=records['StartTime(UTC)']+records['LocalTimeZone'].map(lambda x:dic[x])\n",
    "start=datetime.datetime(2016,2,1)\n",
    "records=records[(records['StartTime(UTC)']>=start)]\n",
    "\n",
    "# Transfer the form of zipcode.\n",
    "records['ZipCode']=records['ZipCode'].map(lambda x:str(x).split('-')[0] if '-' in str(x) else x)\n",
    "\n",
    "location=records[['StartPoint_Lat','StartPoint_Lng']].mean().values.tolist()"
   ]
  },
  {
   "cell_type": "code",
   "execution_count": 3,
   "metadata": {},
   "outputs": [],
   "source": [
    "kinds=records.Type.unique()\n"
   ]
  },
  {
   "cell_type": "markdown",
   "metadata": {},
   "source": [
    "## heatmap"
   ]
  },
  {
   "cell_type": "code",
   "execution_count": 78,
   "metadata": {},
   "outputs": [
    {
     "data": {
      "text/html": [
       "<img src=\"Traffic-Event-Distrubution/rst/heatmap/overall heatmap for diffrent monthes.gif\"/>"
      ],
      "text/plain": [
       "<IPython.core.display.Image object>"
      ]
     },
     "execution_count": 78,
     "metadata": {},
     "output_type": "execute_result"
    }
   ],
   "source": [
    "# example\n",
    "Image(url='Traffic-Event-Distrubution/rst/heatmap/overall heatmap for diffrent monthes.gif')   "
   ]
  },
  {
   "cell_type": "code",
   "execution_count": 4,
   "metadata": {},
   "outputs": [],
   "source": [
    "def generate_gif(title,group):\n",
    "    PATH_NAME='temp/'\n",
    "    images = []\n",
    "    filenames = sorted([fn for fn in os.listdir(PATH_NAME) if fn.endswith('.png')],\n",
    "                       key=lambda x:int(x[-6:-4]) if x[-6].isdigit() else int(x[-5]))\n",
    "    \n",
    "    for filename in filenames:\n",
    "        images.append(imageio.imread(PATH_NAME + filename))\n",
    "        if not os.path.isdir('rst'):\n",
    "            os.mkdir('rst')\n",
    "        if not os.path.isdir('rst/{}'.format(group)):\n",
    "            os.mkdir('rst/{}'.format(group))\n",
    "        imageio.mimsave('rst/{path}/{title}.gif'.format(path=group,title=title), images, duration=0.5,loop=5)"
   ]
  },
  {
   "cell_type": "code",
   "execution_count": 5,
   "metadata": {},
   "outputs": [],
   "source": [
    "\n",
    "def heatmap(matrix,max_val,title):\n",
    "    result = folium.Map(location=location,zoom_start = 4)\n",
    "    HeatMap(matrix,min_opacity=0.45,max_val=max_val,radius=13,blur=15,max_zoom=2).add_to(result)\n",
    "    folium.map.Marker(\n",
    "        [location[0]+15,location[1]+30],\n",
    "        icon=DivIcon(\n",
    "            icon_size=(150,36),\n",
    "            icon_anchor=(0,0),\n",
    "            html='<div style=\"font-size: 24pt\">{}</div>'.format(title),\n",
    "            )\n",
    "        ).add_to(result)\n",
    "    result.save('temp/{}.html'.format(title))\n",
    "    \n",
    "def serial_heatmap(df,ptr,title):\n",
    "    if ptr=='month':\n",
    "        df['group']=df['StartTime(UTC)'].map(lambda x:x.month)\n",
    "    elif ptr=='hour':\n",
    "        df['group']=df['StartTime(UTC)'].map(lambda x:x.hour)\n",
    "    elif ptr=='day':\n",
    "        df['group']=df['StartTime(UTC)'].map(lambda x:x.isoweekday())\n",
    "    groups=df.groupby('group')\n",
    "    matrixs=dict()\n",
    "    max_val=0\n",
    "    for name,group in groups:\n",
    "        zip_pos=group.groupby('ZipCode')['StartPoint_Lat','StartPoint_Lng'].mean()\n",
    "        zip_pos['count']=group.groupby('ZipCode')['Type'].count()\n",
    "        matrixs[name]=zip_pos.values.tolist()\n",
    "        max_val=max(max_val,zip_pos['count'].max())\n",
    "    PATH_NAME='temp'\n",
    "    try:\n",
    "        shutil.rmtree(PATH_NAME)\n",
    "    except FileNotFoundError:pass\n",
    "    os.makedirs(PATH_NAME)\n",
    "    for name in matrixs:\n",
    "        heatmap(matrixs[name],max_val,'{type}-{order}'.format(type=ptr,order=name))\n",
    "    browser = webdriver.Firefox(executable_path=r'C:\\Program Files\\geckodriver.exe')\n",
    "    for name in matrixs:\n",
    "        tmpurl='file://{path}/{mapfile}'.format(path=os.getcwd(),mapfile='temp/{type}-{order}.html'.format(type=ptr,order=name))\n",
    "        browser.get(tmpurl)\n",
    "        time.sleep(0.2)\n",
    "        browser.save_screenshot('temp/{type}-{order}.png'.format(type=ptr,order=name))\n",
    "    browser.quit()\n",
    "    generate_gif(title,'heatmap')\n",
    "    shutil.rmtree(PATH_NAME)\n",
    "\n"
   ]
  },
  {
   "cell_type": "code",
   "execution_count": 41,
   "metadata": {
    "scrolled": false
   },
   "outputs": [],
   "source": [
    "serial_heatmap(records,'month','overall heatmap for diffrent monthes')\n",
    "serial_heatmap(records,'hour','overall heatmap for diffrent hours')\n",
    "serial_heatmap(records,'day','overall heatmap for diffrent day of a week')"
   ]
  },
  {
   "cell_type": "code",
   "execution_count": 7,
   "metadata": {},
   "outputs": [],
   "source": [
    "kinds=records.Type.unique()\n",
    "for kind in kinds:\n",
    "    serial_heatmap(records[records['Type']==kind],'month','{}\\'s heatmap for different monthes'.format(kind.replace('/','&')))\n",
    "    serial_heatmap(records[records['Type']==kind],'hour','{}\\'s heatmap for different hours'.format(kind.replace('/','&')))\n",
    "    serial_heatmap(records[records['Type']==kind],'day','{}\\'s heatmap for different day of a week'.format(kind.replace('/','&')))    "
   ]
  },
  {
   "cell_type": "markdown",
   "metadata": {},
   "source": [
    "### regulated heatmap"
   ]
  },
  {
   "cell_type": "code",
   "execution_count": 6,
   "metadata": {},
   "outputs": [],
   "source": [
    "def serial_regulated_heatmap(df,ptr,kind,title):\n",
    "    location=df[['StartPoint_Lat','StartPoint_Lng']].mean().values.tolist()\n",
    "    if ptr=='month':\n",
    "        df['group']=df['StartTime(UTC)'].map(lambda x:x.month)\n",
    "    elif ptr=='hour':\n",
    "        df['group']=df['StartTime(UTC)'].map(lambda x:x.hour)\n",
    "    elif ptr=='day':\n",
    "        df['group']=df['StartTime(UTC)'].map(lambda x:x.isoweekday())\n",
    "    groups=df.groupby('group')\n",
    "    matrixs=dict()\n",
    "    max_val=0\n",
    "    for name,group in groups:\n",
    "        temp=pd.crosstab(group.ZipCode,group.Type,margins=True)\n",
    "        temp[kind]/=temp.All\n",
    "        zip_pos=group.groupby('ZipCode')['StartPoint_Lat','StartPoint_Lng'].mean()\n",
    "        zip_pos['ratio']=temp[kind]\n",
    "        matrixs[name]=zip_pos.values.tolist()\n",
    "        max_val=max(max_val,zip_pos['ratio'].max())\n",
    "    PATH_NAME='temp'\n",
    "    try:\n",
    "        shutil.rmtree(PATH_NAME)\n",
    "    except FileNotFoundError:pass\n",
    "    os.makedirs(PATH_NAME)\n",
    "    for name in matrixs:\n",
    "        heatmap(matrixs[name],max_val,'{type}-{order}'.format(type=ptr,order=name))\n",
    "    browser = webdriver.Firefox(executable_path=r'C:\\Program Files\\geckodriver.exe')\n",
    "    for name in matrixs:\n",
    "        tmpurl='file://{path}/{mapfile}'.format(path=os.getcwd(),mapfile='temp/{type}-{order}.html'.format(type=ptr,order=name))\n",
    "        browser.get(tmpurl)\n",
    "        time.sleep(0.2)\n",
    "        browser.save_screenshot('temp/{type}-{order}.png'.format(type=ptr,order=name))\n",
    "    browser.quit()\n",
    "    generate_gif(title,'heatmap/regulated')\n",
    "    shutil.rmtree(PATH_NAME)"
   ]
  },
  {
   "cell_type": "code",
   "execution_count": 11,
   "metadata": {},
   "outputs": [],
   "source": [
    "for kind in kinds:\n",
    "    serial_regulated_heatmap(records,'month',kind,'{}\\'s regulated heatmap for different monthes'.format(kind.replace('/','&')))\n",
    "    serial_regulated_heatmap(records,'hour',kind,'{}\\'s regulated heatmap for different hours'.format(kind.replace('/','&')))\n",
    "    serial_regulated_heatmap(records,'day',kind,'{}\\'s regulated heatmap for different day of a week'.format(kind.replace('/','&')))    "
   ]
  },
  {
   "cell_type": "markdown",
   "metadata": {},
   "source": [
    "## choropleth map for states"
   ]
  },
  {
   "cell_type": "code",
   "execution_count": 79,
   "metadata": {},
   "outputs": [
    {
     "data": {
      "text/html": [
       "<img src=\"Traffic-Event-Distrubution/rst/state_choropleth/overall state choropleth for different monthes.gif\"/>"
      ],
      "text/plain": [
       "<IPython.core.display.Image object>"
      ]
     },
     "execution_count": 79,
     "metadata": {},
     "output_type": "execute_result"
    }
   ],
   "source": [
    "# example\n",
    "Image(url='Traffic-Event-Distrubution/rst/state_choropleth/overall state choropleth for different monthes.gif')   "
   ]
  },
  {
   "cell_type": "code",
   "execution_count": 19,
   "metadata": {},
   "outputs": [],
   "source": [
    "def state_choropleth(df,legend_name,title,scale):\n",
    "    state_geo ='https://raw.githubusercontent.com/python-visualization/folium/master/examples/data/us-states.json'\n",
    "    result = folium.Map(location=location, zoom_start=4)\n",
    "    result.choropleth(\n",
    "        geo_data=state_geo,\n",
    "        name='choropleth',\n",
    "        data=df,\n",
    "        columns=list(df.columns),\n",
    "        key_on='feature.id',\n",
    "        fill_color='YlGn',\n",
    "        fill_opacity=0.7,\n",
    "        line_opacity=0.2,\n",
    "        legend_name=legend_name,\n",
    "        threshold_scale=scale\n",
    "    )\n",
    "    folium.map.Marker(\n",
    "    [location[0]+15,location[1]+30],\n",
    "    icon=DivIcon(\n",
    "        icon_size=(150,36),\n",
    "        icon_anchor=(0,0),\n",
    "        html='<div style=\"font-size: 24pt\"><h1>{title}<h1><h2>scale=<h2><h2>{scale}<h2></div>'.format(title=title,scale=str(scale)),\n",
    "        )\n",
    "    ).add_to(result)\n",
    "    result.save('temp/{}.html'.format(title))"
   ]
  },
  {
   "cell_type": "code",
   "execution_count": 20,
   "metadata": {},
   "outputs": [],
   "source": [
    "def serial_state(df,ptr,title):\n",
    "    if ptr=='month':\n",
    "        df['group']=df['StartTime(UTC)'].map(lambda x:x.month)\n",
    "    elif ptr=='hour':\n",
    "        df['group']=df['StartTime(UTC)'].map(lambda x:x.hour)\n",
    "    elif ptr=='day':\n",
    "        df['group']=df['StartTime(UTC)'].map(lambda x:x.isoweekday())\n",
    "    groups=df.groupby('group')\n",
    "    matrixs=dict()\n",
    "    maxval=0\n",
    "    for name,group in groups:\n",
    "        matrixs[name]=group.groupby('State')['Type'].count().reset_index(inplace=False)\n",
    "        a=np.array(split_six(matrixs[name]['Type'])) if 'a' not in locals() else (a+np.array(split_six(matrixs[name]['Type'])))\n",
    "        maxval=max(maxval,max(matrixs[name]['Type']))\n",
    "    a/=len(matrixs)\n",
    "    a[0]=0\n",
    "    scale=a.astype(int).tolist()+[maxval+1]\n",
    "    PATH_NAME='temp'\n",
    "    try:\n",
    "        shutil.rmtree(PATH_NAME)\n",
    "    except FileNotFoundError:pass\n",
    "    os.makedirs(PATH_NAME)\n",
    "    for name in matrixs:\n",
    "        state_choropleth(matrixs[name],'the frequency of states','{type}-{order}'.format(type=ptr,order=name),scale)\n",
    "    browser = webdriver.Firefox(executable_path=r'C:\\Program Files\\geckodriver.exe')\n",
    "    for name in matrixs:\n",
    "        tmpurl='file://{path}/{mapfile}'.format(path=os.getcwd(),mapfile='temp/{type}-{order}.html'.format(type=ptr,order=name))\n",
    "        browser.get(tmpurl)\n",
    "        time.sleep(0.2)\n",
    "        browser.save_screenshot('temp/{type}-{order}.png'.format(type=ptr,order=name))\n",
    "        os.remove('temp/{type}-{order}.html'.format(type=ptr,order=name))\n",
    "    browser.quit()\n",
    "    generate_gif(title,'state_choropleth')\n",
    "    shutil.rmtree(PATH_NAME)"
   ]
  },
  {
   "cell_type": "code",
   "execution_count": 22,
   "metadata": {
    "scrolled": true
   },
   "outputs": [],
   "source": [
    "serial_state(records,'month','overall state choropleth for different monthes')\n",
    "serial_state(records,'hour','overall state choropleth for different hours')\n",
    "serial_state(records,'day','overall state choropleth for different day of a week')"
   ]
  },
  {
   "cell_type": "code",
   "execution_count": 23,
   "metadata": {},
   "outputs": [],
   "source": [
    "for kind in kinds:\n",
    "    serial_state(records[records['Type']==kind],'month','{}\\'s state choropleth for different monthes'.format(kind.replace('/','&')))\n",
    "    serial_state(records[records['Type']==kind],'hour','{}\\'s state choropleth for different hours'.format(kind.replace('/','&')))\n",
    "    serial_state(records[records['Type']==kind],'day','{}\\'s state choropleth for different day of a week'.format(kind.replace('/','&')))    "
   ]
  },
  {
   "cell_type": "markdown",
   "metadata": {},
   "source": [
    "### regulated state choropleth map"
   ]
  },
  {
   "cell_type": "code",
   "execution_count": 24,
   "metadata": {},
   "outputs": [],
   "source": [
    "def serial_regulated_state(df,ptr,kind,title):\n",
    "    if ptr=='month':\n",
    "        df['group']=df['StartTime(UTC)'].map(lambda x:x.month)\n",
    "    elif ptr=='hour':\n",
    "        df['group']=df['StartTime(UTC)'].map(lambda x:x.hour)\n",
    "    elif ptr=='day':\n",
    "        df['group']=df['StartTime(UTC)'].map(lambda x:x.isoweekday())\n",
    "    groups=df.groupby('group')\n",
    "    matrixs=dict()\n",
    "    for name,group in groups:        \n",
    "        temp=pd.crosstab(group.State,group.Type,margins=True)\n",
    "        temp[kind]/=temp.All\n",
    "        matrixs[name]=temp[kind].reset_index(inplace=False)\n",
    "        a=np.array(split_six(matrixs[name][kind])) if 'a' not in locals() else (a+np.array(split_six(matrixs[name][kind])))\n",
    "    a/=len(matrixs)\n",
    "    a[0]=0\n",
    "    scale=a.round(3).tolist()+[1.001]\n",
    "\n",
    "    PATH_NAME='temp'\n",
    "    try:\n",
    "        shutil.rmtree(PATH_NAME)\n",
    "    except FileNotFoundError:pass\n",
    "    os.makedirs(PATH_NAME)\n",
    "    for name in matrixs:\n",
    "        state_choropleth(matrixs[name],'the frequency of states','{type}-{order}'.format(type=ptr,order=name),scale)\n",
    "\n",
    "    browser = webdriver.Firefox(executable_path=r'C:\\Program Files\\geckodriver.exe')\n",
    "    for name in matrixs:\n",
    "        tmpurl='file://{path}/{mapfile}'.format(path=os.getcwd(),mapfile='temp/{type}-{order}.html'.format(type=ptr,order=name))\n",
    "        browser.get(tmpurl)\n",
    "        time.sleep(0.2)\n",
    "        browser.save_screenshot('temp/{type}-{order}.png'.format(type=ptr,order=name))\n",
    "        os.remove('temp/{type}-{order}.html'.format(type=ptr,order=name))\n",
    "    browser.quit()\n",
    "    generate_gif(title,'state_choropleth/regulated')\n",
    "    shutil.rmtree(PATH_NAME)"
   ]
  },
  {
   "cell_type": "code",
   "execution_count": 25,
   "metadata": {},
   "outputs": [],
   "source": [
    "for kind in kinds:\n",
    "    serial_regulated_state(records,'month',kind,'{}\\'s regulated state choropleth for different monthes'.format(kind.replace('/','&')))\n",
    "    serial_regulated_state(records,'hour',kind,'{}\\'s regulated state choropleth for different hours'.format(kind.replace('/','&')))\n",
    "    serial_regulated_state(records,'day',kind,'{}\\'s regulated state choropleth for different day of a week'.format(kind.replace('/','&')))    "
   ]
  },
  {
   "cell_type": "markdown",
   "metadata": {},
   "source": [
    "## choropleth map for counties"
   ]
  },
  {
   "cell_type": "code",
   "execution_count": 80,
   "metadata": {
    "scrolled": true
   },
   "outputs": [
    {
     "data": {
      "text/html": [
       "<img src=\"Traffic-Event-Distrubution/rst/county_choropleth/overall county choropleth for different monthes.gif\"/>"
      ],
      "text/plain": [
       "<IPython.core.display.Image object>"
      ]
     },
     "execution_count": 80,
     "metadata": {},
     "output_type": "execute_result"
    }
   ],
   "source": [
    "# example\n",
    "Image(url='Traffic-Event-Distrubution/rst/county_choropleth/overall county choropleth for different monthes.gif')   "
   ]
  },
  {
   "cell_type": "code",
   "execution_count": null,
   "metadata": {},
   "outputs": [],
   "source": []
  },
  {
   "cell_type": "code",
   "execution_count": 51,
   "metadata": {},
   "outputs": [],
   "source": [
    "colorscale = branca.colormap.linear.YlGnBu_09.scale(0, 30)\n",
    "def county_choropleth(df,title):\n",
    "    def style_function(feature):\n",
    "        value = df.get(int(feature['id'][-5:]), None)\n",
    "        return {\n",
    "            'fillOpacity': 0.5,\n",
    "            'weight': 0,\n",
    "            'fillColor': '#black' if value is None else colorscale(value)\n",
    "        }\n",
    "    temp=urllib.request.urlopen('https://raw.githubusercontent.com/python-visualization/folium/master/examples/data/us_counties_20m_topo.json')\n",
    "    rst=folium.Map(location=location,tiles='cartodbpositron',zoom_start=3)\n",
    "    folium.TopoJson(temp,'objects.us_counties_20m',style_function=style_function).add_to(rst)\n",
    "    folium.map.Marker(\n",
    "    [location[0]+15,location[1]+30],\n",
    "    icon=DivIcon(\n",
    "        icon_size=(150,36),\n",
    "        icon_anchor=(0,0),\n",
    "        html='<div style=\"font-size: 24pt\">{}</div>'.format(title)\n",
    "        )\n",
    "    ).add_to(rst)\n",
    "    rst.save('temp/{}.html'.format(title))\n",
    "def serial_county(df,ptr,title):\n",
    "    if ptr=='month':\n",
    "        df['group']=df['StartTime(UTC)'].map(lambda x:x.month)\n",
    "    elif ptr=='hour':\n",
    "        df['group']=df['StartTime(UTC)'].map(lambda x:x.hour)\n",
    "    elif ptr=='day':\n",
    "        df['group']=df['StartTime(UTC)'].map(lambda x:x.isoweekday())\n",
    "    groups=df.groupby('group')\n",
    "    matrixs=dict()\n",
    "    cmp=pd.read_csv('https://raw.githubusercontent.com/python-visualization/folium/master/tests/us_county_data.csv')\n",
    "    #     edit the fips code\n",
    "    cmp['County']=cmp['Area_name']\n",
    "    cmp['County']=cmp.County.map(lambda x:x.split(' ')[0])\n",
    "    a=[]\n",
    "    for name,group in groups:\n",
    "        temp=pd.merge(cmp,group.groupby(['County','State'])['Type'].count().reset_index(inplace=False),how='left',on=['County','State']).fillna(0)\n",
    "        matrixs[name]=temp.set_index('FIPS_Code')['Type']\n",
    "        a.append(np.percentile(matrixs[name].values,80))\n",
    "    colorscale = branca.colormap.linear.YlGnBu_09.scale(0, np.mean(np.array(a)))\n",
    "    PATH_NAME='temp'\n",
    "    try:\n",
    "        shutil.rmtree(PATH_NAME)\n",
    "    except FileNotFoundError:pass\n",
    "    os.makedirs(PATH_NAME)\n",
    "    for name in matrixs:\n",
    "        county_choropleth(matrixs[name],'{type}-{order}'.format(type=ptr,order=name))\n",
    "    browser = webdriver.Firefox(executable_path=r'C:\\Program Files\\geckodriver.exe')\n",
    "    for name in matrixs:\n",
    "        tmpurl='file://{path}/{mapfile}'.format(path=os.getcwd(),mapfile='temp/{type}-{order}.html'.format(type=ptr,order=name))\n",
    "        browser.get(tmpurl)\n",
    "        time.sleep(0.2)\n",
    "        browser.save_screenshot('temp/{type}-{order}.png'.format(type=ptr,order=name))\n",
    "        os.remove('temp/{type}-{order}.html'.format(type=ptr,order=name))\n",
    "    browser.quit()\n",
    "    generate_gif(title,'county_choropleth')\n",
    "    shutil.rmtree(PATH_NAME)"
   ]
  },
  {
   "cell_type": "code",
   "execution_count": 52,
   "metadata": {
    "scrolled": false
   },
   "outputs": [],
   "source": [
    "serial_county(records,'month','overall county choropleth for different monthes')\n",
    "serial_county(records,'hour','overall county choropleth for different hours')\n",
    "serial_county(records,'day','overall county choropleth for different day of a week')"
   ]
  },
  {
   "cell_type": "code",
   "execution_count": 53,
   "metadata": {},
   "outputs": [],
   "source": [
    "for kind in kinds:\n",
    "    serial_county(records[records['Type']==kind],'month','{}\\'s county choropleth for different monthes'.format(kind.replace('/','&')))\n",
    "    serial_county(records[records['Type']==kind],'hour','{}\\'s county choropleth for different hours'.format(kind.replace('/','&')))\n",
    "    serial_county(records[records['Type']==kind],'day','{}\\'s county choropleth for different day of a week'.format(kind.replace('/','&')))    "
   ]
  },
  {
   "cell_type": "markdown",
   "metadata": {},
   "source": [
    "### regulated county choropleth map"
   ]
  },
  {
   "cell_type": "code",
   "execution_count": 63,
   "metadata": {},
   "outputs": [],
   "source": [
    "colorscale = branca.colormap.linear.YlGnBu_09.scale(0, 1)\n",
    "\n",
    "def serial_regulated_county(df,ptr,kind,title):\n",
    "    if ptr=='month':\n",
    "        df['group']=df['StartTime(UTC)'].map(lambda x:x.month)\n",
    "    elif ptr=='hour':\n",
    "        df['group']=df['StartTime(UTC)'].map(lambda x:x.hour)\n",
    "    elif ptr=='day':\n",
    "        df['group']=df['StartTime(UTC)'].map(lambda x:x.isoweekday())\n",
    "    groups=df.groupby('group')\n",
    "    matrixs=dict()\n",
    "    cmp=pd.read_csv('https://raw.githubusercontent.com/python-visualization/folium/master/tests/us_county_data.csv')\n",
    "    #     edit the fips code\n",
    "    cmp['County']=cmp['Area_name']\n",
    "    cmp['County']=cmp.County.map(lambda x:x.split(' ')[0])\n",
    "    for name,group in groups:\n",
    "        temp=pd.crosstab([group['County'],group['State']],group['Type'],margins=True)\n",
    "        temp[kind]/=temp['All']\n",
    "        temp=pd.merge(cmp,temp[kind].reset_index(inplace=False),how='left',on=['County','State']).fillna(0)\n",
    "        matrixs[name]=temp.set_index('FIPS_Code')[kind]\n",
    "    PATH_NAME='temp'\n",
    "    try:\n",
    "        shutil.rmtree(PATH_NAME)\n",
    "    except FileNotFoundError:pass\n",
    "    os.makedirs(PATH_NAME)\n",
    "    for name in matrixs:\n",
    "        county_choropleth(matrixs[name],'{type}-{order}'.format(type=ptr,order=name))\n",
    "    browser = webdriver.Firefox(executable_path=r'C:\\Program Files\\geckodriver.exe')\n",
    "    for name in matrixs:\n",
    "        tmpurl='file://{path}/{mapfile}'.format(path=os.getcwd(),mapfile='temp/{type}-{order}.html'.format(type=ptr,order=name))\n",
    "        browser.get(tmpurl)\n",
    "        time.sleep(0.2)\n",
    "        browser.save_screenshot('temp/{type}-{order}.png'.format(type=ptr,order=name))\n",
    "        os.remove('temp/{type}-{order}.html'.format(type=ptr,order=name))\n",
    "    browser.quit()\n",
    "    generate_gif(title,'county_choropleth/regulated')\n",
    "    shutil.rmtree(PATH_NAME)"
   ]
  },
  {
   "cell_type": "code",
   "execution_count": 64,
   "metadata": {},
   "outputs": [],
   "source": [
    "for kind in kinds:\n",
    "    serial_regulated_county(records,'month',kind,'{}\\'s regulated county choropleth for different monthes'.format(kind.replace('/','&')))\n",
    "    serial_regulated_county(records,'hour',kind,'{}\\'s regulated county choropleth for different hours'.format(kind.replace('/','&')))\n",
    "    serial_regulated_county(records,'day',kind,'{}\\'s regulated county choropleth for different day of a week'.format(kind.replace('/','&')))    "
   ]
  },
  {
   "cell_type": "markdown",
   "metadata": {},
   "source": [
    "## bubble map"
   ]
  },
  {
   "cell_type": "code",
   "execution_count": 82,
   "metadata": {
    "scrolled": true
   },
   "outputs": [
    {
     "data": {
      "text/html": [
       "<img src=\"https://github.com/mingxinlu/Traffic-Event-Distrubution/blob/master/overall%20bubblemap%20for%20different%20monthes.gif\"/>"
      ],
      "text/plain": [
       "<IPython.core.display.Image object>"
      ]
     },
     "execution_count": 82,
     "metadata": {},
     "output_type": "execute_result"
    }
   ],
   "source": [
    "# example\n",
    "Image(url='https://github.com/mingxinlu/Traffic-Event-Distrubution/blob/master/overall%20bubblemap%20for%20different%20monthes.gif')   \n",
    "# If you can't see the example, you could download it from the first page of the github or open with the url."
   ]
  },
  {
   "cell_type": "markdown",
   "metadata": {},
   "source": [
    "Due to that folium wastes too much time on the construction of the image,(iplot is a limited modules which couldn't provide enough quota), I will try to find a better module to construct this kind of map in future. This is two totally workable code with my test. But I can't provide the final gif because it take too much times and have the risk of collapse of the module browser due to the limited delay time."
   ]
  },
  {
   "cell_type": "code",
   "execution_count": 74,
   "metadata": {},
   "outputs": [],
   "source": [
    "def bubblemap(df,value,title,scale):\n",
    "    rst = folium.Map(location=location, tiles=\"Mapbox Bright\", zoom_start=5)\n",
    "    def color(i):\n",
    "        if i<5:return 'crimson'\n",
    "        if i<20:return '#8B00FF'\n",
    "        if i<50:return '#FFE5B4'\n",
    "        if i<100:return '#81D8D0'\n",
    "        return'#C0C0C0'\n",
    "    \n",
    "    for i in range(len(df)-1,-1,-1):\n",
    "        folium.Circle(\n",
    "        location=df[i],\n",
    "        radius=value[i]*scale,\n",
    "        color=color(i),\n",
    "        fill=True,\n",
    "        fill_color=color(i)).add_to(rst)\n",
    "        folium.map.Marker(\n",
    "            [location[0]+15,location[1]+30],\n",
    "            icon=DivIcon(\n",
    "                icon_size=(150,36),\n",
    "                icon_anchor=(0,0),\n",
    "                html='<div style=\"font-size: 24pt\">{}</div>'.format(title)\n",
    "                )\n",
    "            ).add_to(rst)\n",
    "    rst.save('temp/{}.html'.format(title))\n",
    "def serial_bubblemap(df,ptr,title):\n",
    "    if ptr=='month':\n",
    "        df['group']=df['StartTime(UTC)'].map(lambda x:x.month)\n",
    "    elif ptr=='hour':\n",
    "        df['group']=df['StartTime(UTC)'].map(lambda x:x.hour)\n",
    "    elif ptr=='day':\n",
    "        df['group']=df['StartTime(UTC)'].map(lambda x:x.isoweekday())\n",
    "    groups=df.groupby('group')\n",
    "    matrixs=dict()\n",
    "    for name,group in groups:\n",
    "        city_pos=group.groupby('City')['StartPoint_Lat','StartPoint_Lng'].mean()\n",
    "        city_pos['count']=group.groupby('City')['Type'].count()\n",
    "        city_pos=city_pos.sort_values(by='count',ascending=False)\n",
    "        matrixs[name]=[]\n",
    "        matrixs[name].append(city_pos[['StartPoint_Lat','StartPoint_Lng']].values.tolist())\n",
    "        matrixs[name].append(city_pos['count'].values.tolist())\n",
    "    \n",
    "    scale=(5000*70)/max(max(matrixs[name][1])for name in matrixs)\n",
    "    PATH_NAME='temp'\n",
    "    try:\n",
    "        shutil.rmtree(PATH_NAME)\n",
    "    except FileNotFoundError:pass\n",
    "    os.makedirs(PATH_NAME)\n",
    "    for name in matrixs:\n",
    "        bubblemap(matrixs[name][0],matrixs[name][1],'{type}-{order}'.format(type=ptr,order=name),scale)\n",
    "\n",
    "    browser = webdriver.Firefox(executable_path=r'C:\\Program Files\\geckodriver.exe')\n",
    "    for name in matrixs:\n",
    "        tmpurl='file://{path}/{mapfile}'.format(path=os.getcwd(),mapfile='temp/{type}-{order}.html'.format(type=ptr,order=name))\n",
    "        browser.get(tmpurl)\n",
    "        time.sleep(0.2)\n",
    "        browser.save_screenshot('temp/{type}-{order}.png'.format(type=ptr,order=name))\n",
    "    browser.quit()\n",
    "    generate_gif(title,'bubble_map')\n",
    "    os.rmdir(PATH_NAME)"
   ]
  },
  {
   "cell_type": "code",
   "execution_count": null,
   "metadata": {},
   "outputs": [],
   "source": [
    "def regulated_bubblemap(df,ptr,kind,title):\n",
    "    if ptr=='month':\n",
    "        df['group']=df['StartTime(UTC)'].map(lambda x:x.hour)\n",
    "    elif ptr=='hour':\n",
    "        df['group']=df['StartTime(UTC)'].map(lambda x:x.month)\n",
    "    elif ptr=='day':\n",
    "        df['group']=df['StartTime(UTC)'].map(lambda x:x.isoweekday())\n",
    "    groups=df.groupby('group')\n",
    "    matrixs=dict()\n",
    "    for name,group in groups:\n",
    "        city_pos=group.groupby('City')['StartPoint_Lat','StartPoint_Lng'].mean()\n",
    "        temp=pd.crosstab(group.City,group.Type,margins=True)\n",
    "        temp[kind]/=temp['All']\n",
    "        city_pos['value']=temp[kind]\n",
    "        city_pos.sort_values(by=['value'])\n",
    "        matrixs[name]=[]\n",
    "        matrixs.append(city_pos[['StartPoint_Lat','StartPoint_Lng']].values.tolist())\n",
    "        matrixs.append(city_pos['value'].values.tolist())\n",
    "    location=df[['StartPoint_Lat','StartPoint_Lng']].mean().values.tolist()\n",
    "    PATH_NAME='temp'\n",
    "    shutil.rmtree(PATH_NAME)\n",
    "    os.makedirs(PATH_NAME)\n",
    "    for name in matrixs:\n",
    "        bubble_map(matrixs[name][0],matrixs[name][1],'{type}-{order}'.format(type=ptr,order=name))\n",
    "    browser = webdriver.Firefox(executable_path=r'C:\\Program Files\\geckodriver.exe')\n",
    "    for name in matrixs:\n",
    "        tmpurl='file://{path}/{mapfile}'.format(path=os.getcwd(),mapfile='temp/{type}-{order}.html'.format(type=ptr,order=name))\n",
    "        browser.get(tmpurl)\n",
    "        time.sleep(0.2)\n",
    "        browser.save_screenshot('temp/{type}-{order}.png'.format(type=ptr,order=name))\n",
    "    browser.quit()\n",
    "    generate_gif(title,'bubble_map/regulated')\n",
    "    os.rmdir(PATH_NAME)\n"
   ]
  }
 ],
 "metadata": {
  "kernelspec": {
   "display_name": "Python 3",
   "language": "python",
   "name": "python3"
  },
  "language_info": {
   "codemirror_mode": {
    "name": "ipython",
    "version": 3
   },
   "file_extension": ".py",
   "mimetype": "text/x-python",
   "name": "python",
   "nbconvert_exporter": "python",
   "pygments_lexer": "ipython3",
   "version": "3.6.4"
  }
 },
 "nbformat": 4,
 "nbformat_minor": 2
}
